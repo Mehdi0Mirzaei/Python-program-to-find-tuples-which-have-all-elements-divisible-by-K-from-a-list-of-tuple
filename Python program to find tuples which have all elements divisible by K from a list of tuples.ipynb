{
 "cells": [
  {
   "cell_type": "code",
   "execution_count": 1,
   "id": "e65924bd",
   "metadata": {},
   "outputs": [
    {
     "name": "stdout",
     "output_type": "stream",
     "text": [
      "The original list is : [(6, 24, 12), (7, 9, 6), (12, 18, 21)]\n",
      "K Multiple elements tuples : [(6, 24, 12)]\n"
     ]
    }
   ],
   "source": [
    "# initializing list\n",
    "test_list = [(6, 24, 12), (7, 9, 6), (12, 18, 21)]\n",
    " \n",
    "# printing original list\n",
    "print(\"The original list is : \" + str(test_list))\n",
    " \n",
    "# initializing K\n",
    "K = 6\n",
    " \n",
    "# all() used to filter elements\n",
    "res = [sub for sub in test_list if all(ele % K == 0 for ele in sub)]\n",
    " \n",
    "# printing result\n",
    "print(\"K Multiple elements tuples : \" + str(res))"
   ]
  },
  {
   "cell_type": "code",
   "execution_count": 2,
   "id": "b71f6ad8",
   "metadata": {},
   "outputs": [
    {
     "name": "stdout",
     "output_type": "stream",
     "text": [
      "The original list is : [(6, 24, 12), (7, 9, 6), (12, 18, 21)]\n",
      "K Multiple elements tuples : [(6, 24, 12)]\n"
     ]
    }
   ],
   "source": [
    "# initializing list\n",
    "test_list = [(6, 24, 12), (7, 9, 6), (12, 18, 21)]\n",
    " \n",
    "# printing original list\n",
    "print(\"The original list is : \" + str(test_list))\n",
    " \n",
    "# initializing K\n",
    "K = 6\n",
    " \n",
    "# filter() + lambda for filter operation\n",
    "res = list(filter(lambda sub: all(ele % K == 0 for ele in sub), test_list))\n",
    " \n",
    "# printing result\n",
    "print(\"K Multiple elements tuples : \" + str(res))"
   ]
  },
  {
   "cell_type": "code",
   "execution_count": 3,
   "id": "a29ca841",
   "metadata": {},
   "outputs": [
    {
     "name": "stdout",
     "output_type": "stream",
     "text": [
      "The original list is : [(6, 24, 12), (7, 9, 6), (12, 18, 21)]\n",
      "K Multiple elements tuples : [(6, 24, 12)]\n"
     ]
    }
   ],
   "source": [
    "# Initialize list\n",
    "test_list = [(6, 24, 12), (7, 9, 6), (12, 18, 21)]\n",
    " \n",
    "# Initialize K\n",
    "K = 6\n",
    " \n",
    "# list comprehension\n",
    "result = [tup for tup in test_list if not any(x % K != 0 for x in tup)]\n",
    "# printing original list\n",
    "print(\"The original list is : \" + str(test_list))\n",
    "# Print the list of tuples whose elements are multiples of K\n",
    "print(\"K Multiple elements tuples : \" + str(result))"
   ]
  },
  {
   "cell_type": "code",
   "execution_count": 5,
   "id": "1bbad2b0",
   "metadata": {},
   "outputs": [
    {
     "name": "stdout",
     "output_type": "stream",
     "text": [
      "The original list is : [(6, 24, 12), (7, 9, 6), (12, 18, 21)]\n",
      "K Multiple elements tuples : [(6, 24, 12)]\n"
     ]
    }
   ],
   "source": [
    "# initializing list\n",
    "test_list = [(6, 24, 12), (7, 9, 6), (12, 18, 21)]\n",
    " \n",
    "# printing original list\n",
    "print(\"The original list is : \" + str(test_list))\n",
    " \n",
    "# initializing K\n",
    "K = 6\n",
    " \n",
    "res = []\n",
    "for i in test_list:\n",
    "    c=0\n",
    "    for j in i:\n",
    "        if(j%K==0):\n",
    "            c+=1\n",
    "    if(c==len(i)):\n",
    "        res.append(i)\n",
    " # printing result\n",
    "print(\"K Multiple elements tuples : \" + str(res))"
   ]
  },
  {
   "cell_type": "code",
   "execution_count": 6,
   "id": "cbfc94ef",
   "metadata": {},
   "outputs": [
    {
     "name": "stdout",
     "output_type": "stream",
     "text": [
      "The original list is : [(6, 24, 12), (7, 9, 6), (12, 18, 21)]\n",
      "K Multiple elements tuples : [(6, 24, 12)]\n"
     ]
    }
   ],
   "source": [
    "def even_tuple(lst,K,newlst=[],start=0):\n",
    "  if start==len(lst):\n",
    "    return newlst\n",
    "  for i in lst[start]:\n",
    "    if i%K!=0:\n",
    "      return even_tuple(lst,K,newlst,start+1)\n",
    "  else:\n",
    "    newlst.append(lst[start])\n",
    "  return even_tuple(lst,K,newlst,start+1)\n",
    "# initializing list\n",
    "test_list = [(6, 24, 12), (7, 9, 6), (12, 18, 21)]\n",
    " \n",
    "# printing original list\n",
    "print(\"The original list is : \" + str(test_list))\n",
    " \n",
    "# initializing K\n",
    "K = 6\n",
    " \n",
    "res = even_tuple(test_list,K)\n",
    " \n",
    "# printing result\n",
    "print(\"K Multiple elements tuples : \" + str(res))"
   ]
  },
  {
   "cell_type": "code",
   "execution_count": 7,
   "id": "b65516ec",
   "metadata": {},
   "outputs": [
    {
     "name": "stdout",
     "output_type": "stream",
     "text": [
      "The original list is : [(6, 24, 12), (7, 9, 6), (12, 18, 21)]\n",
      "K Multiple elements tuples : [(6, 24, 12)]\n"
     ]
    }
   ],
   "source": [
    "test_list = [(6, 24, 12), (7, 9, 6), (12, 18, 21)]\n",
    "K = 6\n",
    " \n",
    "# define a function to check if all elements in a tuple are multiples of K\n",
    "def is_multiple_of_K(tup):\n",
    "    return all(ele % K == 0 for ele in tup)\n",
    " \n",
    "# use filter() to keep only tuples that satisfy the condition\n",
    "res = list(filter(is_multiple_of_K, test_list))\n",
    " \n",
    "# printing original list\n",
    "print(\"The original list is : \" + str(test_list))\n",
    " \n",
    "print(\"K Multiple elements tuples : \" + str(res))"
   ]
  },
  {
   "cell_type": "code",
   "execution_count": 8,
   "id": "3d8c981b",
   "metadata": {},
   "outputs": [
    {
     "name": "stdout",
     "output_type": "stream",
     "text": [
      "The original list is : [(6, 24, 12), (7, 9, 6), (12, 18, 21)]\n",
      "K Multiple elements tuples : [[ 6 24 12]]\n"
     ]
    }
   ],
   "source": [
    "import numpy as np\n",
    " \n",
    "# initializing the list\n",
    "test_list = [(6, 24, 12), (7, 9, 6), (12, 18, 21)]\n",
    " \n",
    "# printing the original list\n",
    "print(\"The original list is : \" + str(test_list))\n",
    " \n",
    "# initializing K\n",
    "K = 6\n",
    " \n",
    "# converting the list to a numpy array\n",
    "arr = np.array(test_list)\n",
    " \n",
    "# using np.all() to filter elements\n",
    "res = arr[np.all(arr % K == 0, axis=1)]\n",
    " \n",
    "# printing the result\n",
    "print(\"K Multiple elements tuples : \" + str(res))\n"
   ]
  },
  {
   "cell_type": "code",
   "execution_count": null,
   "id": "73e2f307",
   "metadata": {},
   "outputs": [],
   "source": []
  }
 ],
 "metadata": {
  "kernelspec": {
   "display_name": "Python 3 (ipykernel)",
   "language": "python",
   "name": "python3"
  },
  "language_info": {
   "codemirror_mode": {
    "name": "ipython",
    "version": 3
   },
   "file_extension": ".py",
   "mimetype": "text/x-python",
   "name": "python",
   "nbconvert_exporter": "python",
   "pygments_lexer": "ipython3",
   "version": "3.9.13"
  }
 },
 "nbformat": 4,
 "nbformat_minor": 5
}
